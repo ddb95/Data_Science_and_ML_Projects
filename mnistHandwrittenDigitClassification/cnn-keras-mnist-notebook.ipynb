{
 "cells": [
  {
   "cell_type": "code",
   "execution_count": 20,
   "metadata": {
    "colab": {
     "base_uri": "https://localhost:8080/",
     "height": 34
    },
    "colab_type": "code",
    "executionInfo": {
     "elapsed": 3217,
     "status": "ok",
     "timestamp": 1558379030311,
     "user": {
      "displayName": "",
      "photoUrl": "",
      "userId": ""
     },
     "user_tz": -330
    },
    "id": "YzDjaBg0oJAq",
    "outputId": "8a4848c7-0487-43fd-bd0b-bb4970d36a56"
   },
   "outputs": [],
   "source": [
    "# from keras.datasets import mnist\n",
    "# from keras.models import Sequential\n",
    "# from keras.layers import Dense\n",
    "# from keras.layers import Dropout\n",
    "# from keras.layers import Flatten\n",
    "# from keras.layers.convolutional import Conv2D\n",
    "# from keras.layers.convolutional import MaxPooling2D\n",
    "import numpy as np\n",
    "# from matplotlib import pyplot as plt\n",
    "# from keras.utils import np_utils\n",
    "import cv2\n",
    "import os\n",
    "\n",
    "# from keras import backend as K\n",
    "# K.set_image_dim_ordering('th')\n",
    "\n",
    "%matplotlib inline\n",
    "\n",
    "seed = 7\n",
    "import tensorflow as tf\n",
    "np.random.seed(seed)\n",
    "# import tensorflowjs as tfjs\n"
   ]
  },
  {
   "cell_type": "code",
   "execution_count": 13,
   "metadata": {
    "scrolled": true
   },
   "outputs": [
    {
     "data": {
      "text/plain": [
       "['5.png',\n",
       " '6.png',\n",
       " 'group1-shard1of1.bin',\n",
       " '3.jpg',\n",
       " 'mnistHandWrittenAcheivingHigherAccuracy.ipynb',\n",
       " 'mnist_submission.csv',\n",
       " 'mnistEndToEndMLProject',\n",
       " 'mnist-in-csv.zip',\n",
       " 'MNIST-CNN-ENSEMBLE.csv',\n",
       " 'model.h5',\n",
       " '.ipynb_checkpoints',\n",
       " 'cnn-keras-mnist-notebook.ipynb',\n",
       " 'Exercise_ Deep Learning From Scratch.ipynb',\n",
       " 'mnistHandWrittenDigitFinal.ipynb',\n",
       " 'mnist-in-csv']"
      ]
     },
     "execution_count": 13,
     "metadata": {},
     "output_type": "execute_result"
    }
   ],
   "source": [
    "os.listdir()"
   ]
  },
  {
   "cell_type": "code",
   "execution_count": null,
   "metadata": {},
   "outputs": [],
   "source": []
  },
  {
   "cell_type": "code",
   "execution_count": 2,
   "metadata": {
    "colab": {},
    "colab_type": "code",
    "id": "Y2f62Id7oJAw",
    "scrolled": false
   },
   "outputs": [],
   "source": [
    "def load_data():\n",
    "    (x_train, y_train), (x_test, y_test) = mnist.load_data()\n",
    "\n",
    "    x_train = x_train.reshape(x_train.shape[0], 1, 28, 28).astype('float32')\n",
    "\n",
    "    x_test = x_test.reshape(x_test.shape[0], 1, 28, 28).astype('float32')\n",
    "\n",
    "    x_train = x_train / 255\n",
    "    x_test = x_test / 255\n",
    "\n",
    "    y_train = np_utils.to_categorical(y_train)\n",
    "    y_test = np_utils.to_categorical(y_test)\n",
    "    \n",
    "    return x_train, y_train, x_test, y_test"
   ]
  },
  {
   "cell_type": "code",
   "execution_count": 3,
   "metadata": {
    "colab": {
     "base_uri": "https://localhost:8080/",
     "height": 51
    },
    "colab_type": "code",
    "executionInfo": {
     "elapsed": 2272,
     "status": "ok",
     "timestamp": 1558379043211,
     "user": {
      "displayName": "",
      "photoUrl": "",
      "userId": ""
     },
     "user_tz": -330
    },
    "id": "ptdmAMEvoJA0",
    "outputId": "d505a508-7143-4414-f413-6684151f7056"
   },
   "outputs": [],
   "source": [
    "x_train, y_train, x_test, y_test = load_data()\n",
    "num_classes = y_test.shape[1]\n",
    "\n",
    "# O model será exportado para este arquivo\n",
    "filename='mnistneuralnet.h5'"
   ]
  },
  {
   "cell_type": "code",
   "execution_count": 4,
   "metadata": {
    "colab": {},
    "colab_type": "code",
    "id": "GTHqXGVMoJA3"
   },
   "outputs": [],
   "source": [
    "def model():\n",
    "    model = Sequential()\n",
    "\n",
    "    model.add(Conv2D(30, (5, 5), input_shape=(1, 28, 28), activation='relu'))\n",
    "\n",
    "    model.add(MaxPooling2D(pool_size=(2, 2)))\n",
    "\n",
    "    model.add(Conv2D(15, (3, 3), input_shape=(1, 28, 28), activation='relu'))\n",
    "\n",
    "    model.add(MaxPooling2D(pool_size=(2, 2)))\n",
    "\n",
    "    model.add(Dropout(0.2))\n",
    "\n",
    "    model.add(Flatten())\n",
    "\n",
    "    model.add(Dense(128, activation='relu'))\n",
    "\n",
    "    model.add(Dense(64, activation='relu'))\n",
    "\n",
    "    model.add(Dense(32, activation='relu'))\n",
    "\n",
    "    model.add(Dense(num_classes, activation='softmax', name='predict'))\n",
    "\n",
    "    model.compile(loss='categorical_crossentropy', optimizer='adam', metrics=['accuracy'])\n",
    "    \n",
    "    return model"
   ]
  },
  {
   "cell_type": "code",
   "execution_count": 5,
   "metadata": {
    "colab": {
     "base_uri": "https://localhost:8080/",
     "height": 1006
    },
    "colab_type": "code",
    "executionInfo": {
     "elapsed": 701171,
     "status": "ok",
     "timestamp": 1558379802144,
     "user": {
      "displayName": "",
      "photoUrl": "",
      "userId": ""
     },
     "user_tz": -330
    },
    "id": "i5T2SVzkoJA6",
    "outputId": "1839d5d5-fae1-46f9-ee0e-0937a14e0884"
   },
   "outputs": [
    {
     "name": "stdout",
     "output_type": "stream",
     "text": [
      "_________________________________________________________________\n",
      "Layer (type)                 Output Shape              Param #   \n",
      "=================================================================\n",
      "conv2d_1 (Conv2D)            (None, 30, 24, 24)        780       \n",
      "_________________________________________________________________\n",
      "max_pooling2d_1 (MaxPooling2 (None, 30, 12, 12)        0         \n",
      "_________________________________________________________________\n",
      "conv2d_2 (Conv2D)            (None, 15, 10, 10)        4065      \n",
      "_________________________________________________________________\n",
      "max_pooling2d_2 (MaxPooling2 (None, 15, 5, 5)          0         \n",
      "_________________________________________________________________\n",
      "dropout_1 (Dropout)          (None, 15, 5, 5)          0         \n",
      "_________________________________________________________________\n",
      "flatten_1 (Flatten)          (None, 375)               0         \n",
      "_________________________________________________________________\n",
      "dense_1 (Dense)              (None, 128)               48128     \n",
      "_________________________________________________________________\n",
      "dense_2 (Dense)              (None, 64)                8256      \n",
      "_________________________________________________________________\n",
      "dense_3 (Dense)              (None, 32)                2080      \n",
      "_________________________________________________________________\n",
      "predict (Dense)              (None, 10)                330       \n",
      "=================================================================\n",
      "Total params: 63,639\n",
      "Trainable params: 63,639\n",
      "Non-trainable params: 0\n",
      "_________________________________________________________________\n",
      "Train on 60000 samples, validate on 10000 samples\n",
      "Epoch 1/10\n",
      "60000/60000 [==============================] - 94s - loss: 0.4217 - acc: 0.8640 - val_loss: 0.0836 - val_acc: 0.9732\n",
      "Epoch 2/10\n",
      "60000/60000 [==============================] - 90s - loss: 0.1000 - acc: 0.9688 - val_loss: 0.0554 - val_acc: 0.9825\n",
      "Epoch 3/10\n",
      "60000/60000 [==============================] - 92s - loss: 0.0712 - acc: 0.9778 - val_loss: 0.0401 - val_acc: 0.9875\n",
      "Epoch 4/10\n",
      "60000/60000 [==============================] - 89s - loss: 0.0548 - acc: 0.9831 - val_loss: 0.0340 - val_acc: 0.9890\n",
      "Epoch 5/10\n",
      "60000/60000 [==============================] - 91s - loss: 0.0485 - acc: 0.9853 - val_loss: 0.0292 - val_acc: 0.9908\n",
      "Epoch 6/10\n",
      "60000/60000 [==============================] - 93s - loss: 0.0431 - acc: 0.9860 - val_loss: 0.0304 - val_acc: 0.9906\n",
      "Epoch 7/10\n",
      "60000/60000 [==============================] - 98s - loss: 0.0389 - acc: 0.9877 - val_loss: 0.0318 - val_acc: 0.9896\n",
      "Epoch 8/10\n",
      "60000/60000 [==============================] - 91s - loss: 0.0359 - acc: 0.9886 - val_loss: 0.0264 - val_acc: 0.9921\n",
      "Epoch 9/10\n",
      "60000/60000 [==============================] - 90s - loss: 0.0327 - acc: 0.9898 - val_loss: 0.0250 - val_acc: 0.9912\n",
      "Epoch 10/10\n",
      "60000/60000 [==============================] - 84s - loss: 0.0304 - acc: 0.9902 - val_loss: 0.0287 - val_acc: 0.9905\n"
     ]
    }
   ],
   "source": [
    "model = model()\n",
    "model.summary()\n",
    "\n",
    "\n",
    "# Checks whether a trained and exported template already exists for a .h5 file.\n",
    "# A new model will be trained if this file does not exist.\n",
    "if not os.path.exists('./{}'.format(filename) ):\n",
    "    model.fit(x_train, y_train, validation_data=(x_test, y_test), epochs=10, batch_size=200)\n",
    "    model.save_weights(filename)\n",
    "else:\n",
    "  \n",
    "    # load a previously trained model\n",
    "    model.load_weights('./{}'.format(filename) )"
   ]
  },
  {
   "cell_type": "code",
   "execution_count": 6,
   "metadata": {
    "colab": {
     "base_uri": "https://localhost:8080/",
     "height": 51
    },
    "colab_type": "code",
    "executionInfo": {
     "elapsed": 8477,
     "status": "ok",
     "timestamp": 1558379939399,
     "user": {
      "displayName": "",
      "photoUrl": "",
      "userId": ""
     },
     "user_tz": -330
    },
    "id": "2ukUzMRGoJA_",
    "outputId": "c097ea48-d70b-4211-a35a-fdf5c8414173"
   },
   "outputs": [
    {
     "name": "stdout",
     "output_type": "stream",
     "text": [
      "\n",
      "acc: 99.05%\n"
     ]
    }
   ],
   "source": [
    "scores = model.evaluate(x_test, y_test, verbose=0)\n",
    "print(\"\\nacc: %.2f%%\" % (scores[1]*100))"
   ]
  },
  {
   "cell_type": "code",
   "execution_count": 10,
   "metadata": {
    "colab": {
     "base_uri": "https://localhost:8080/",
     "height": 575
    },
    "colab_type": "code",
    "executionInfo": {
     "elapsed": 1613,
     "status": "error",
     "timestamp": 1558379948516,
     "user": {
      "displayName": "",
      "photoUrl": "",
      "userId": ""
     },
     "user_tz": -330
    },
    "id": "d4LycxzzoJBC",
    "outputId": "b6d68c4b-3600-421e-fb1f-88c2f3342b86"
   },
   "outputs": [
    {
     "data": {
      "text/plain": [
       "<matplotlib.image.AxesImage at 0x7f7a2901f128>"
      ]
     },
     "execution_count": 10,
     "metadata": {},
     "output_type": "execute_result"
    },
    {
     "data": {
      "image/png": "[encoded data removed]",
      "text/plain": [
       "<Figure size 432x288 with 1 Axes>"
      ]
     },
     "metadata": {},
     "output_type": "display_data"
    }
   ],
   "source": [
    "img_pred = cv2.imread(\"5.png\", 0)\n",
    "plt.imshow(img_pred, cmap='gray')"
   ]
  },
  {
   "cell_type": "code",
   "execution_count": 11,
   "metadata": {
    "colab": {},
    "colab_type": "code",
    "id": "yY_kF3FboJBF"
   },
   "outputs": [],
   "source": [
    "if img_pred.shape != [28,28]:\n",
    "    img2 = cv2.resize(img_pred, (28, 28))\n",
    "    img_pred = img2.reshape(28, 28, -1)\n",
    "else:\n",
    "    img_pred = img_pred.reshape(28, 28, -1)\n",
    "\n",
    "\n",
    "img_pred = img_pred.reshape(1, 1, 28, 28).astype('float32')\n",
    "\n",
    "img_pred = img_pred/255.0\n"
   ]
  },
  {
   "cell_type": "code",
   "execution_count": 12,
   "metadata": {
    "colab": {},
    "colab_type": "code",
    "id": "67PJIa7xoJBH",
    "outputId": "08106ac0-3231-4865-bf95-10631fa3507e"
   },
   "outputs": [
    {
     "name": "stdout",
     "output_type": "stream",
     "text": [
      "1/1 [==============================] - 0s\n",
      "1/1 [==============================] - 0s\n",
      "5  com confiança de  99.91%\n"
     ]
    }
   ],
   "source": [
    "pred = model.predict_classes(img_pred)\n",
    "pred_proba = model.predict_proba(img_pred)\n",
    "pred_proba = \"%.2f%%\" % (pred_proba[0][pred]*100)\n",
    "print(pred[0], \" Confidence \", pred_proba)"
   ]
  },
  {
   "cell_type": "code",
   "execution_count": 0,
   "metadata": {
    "colab": {},
    "colab_type": "code",
    "id": "ghOYGN5roJBK"
   },
   "outputs": [],
   "source": []
  }
 ],
 "metadata": {
  "colab": {
   "name": "Copy of cnn-keras-mnist-notebook.ipynb",
   "provenance": [
    {
     "file_id": "https://github.com/luisfredgs/keras-cnn-handwriting-mnist/blob/master/cnn-keras-mnist-notebook.ipynb",
     "timestamp": 1558379999987
    }
   ],
   "version": "0.3.2"
  },
  "kernelspec": {
   "display_name": "Python 3",
   "language": "python",
   "name": "python3"
  },
  "language_info": {
   "codemirror_mode": {
    "name": "ipython",
    "version": 3
   },
   "file_extension": ".py",
   "mimetype": "text/x-python",
   "name": "python",
   "nbconvert_exporter": "python",
   "pygments_lexer": "ipython3",
   "version": "3.6.5"
  }
 },
 "nbformat": 4,
 "nbformat_minor": 1
}
