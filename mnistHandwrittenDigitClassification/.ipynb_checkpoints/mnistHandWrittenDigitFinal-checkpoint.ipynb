{
 "cells": [
  {
   "cell_type": "code",
   "execution_count": 1,
   "metadata": {},
   "outputs": [
    {
     "name": "stderr",
     "output_type": "stream",
     "text": [
      "Using TensorFlow backend.\n"
     ]
    }
   ],
   "source": [
    "from keras.datasets import mnist\n",
    "import matplotlib.pyplot as plt\n",
    "import numpy as np\n",
    "import pandas as pd\n",
    "from sklearn.model_selection import train_test_split\n",
    "import seaborn as sns\n",
    "%matplotlib inline\n",
    "\n",
    "np.random.seed(2)\n",
    "import keras\n",
    "import cv2\n",
    "import tensorflow as tf\n",
    "from keras.layers import Dense, Flatten, Conv2D, Dropout, MaxPool2D, AvgPool2D, BatchNormalization\n",
    "from keras.models import Sequential\n",
    "from keras.layers import InputLayer, Input\n",
    "from keras.layers import Reshape, MaxPool2D\n",
    "from keras.optimizers import RMSprop\n",
    "from keras.preprocessing.image import ImageDataGenerator\n",
    "from keras.callbacks import ReduceLROnPlateau\n"
   ]
  },
  {
   "cell_type": "code",
   "execution_count": 2,
   "metadata": {},
   "outputs": [
    {
     "data": {
      "text/plain": [
       "(60000, 785)"
      ]
     },
     "execution_count": 2,
     "metadata": {},
     "output_type": "execute_result"
    }
   ],
   "source": [
    "img_rows, img_cols = 28,28\n",
    "num_classes = 10\n",
    "train = pd.read_csv('./mnist-in-csv/mnist_train.csv')\n",
    "train.shape"
   ]
  },
  {
   "cell_type": "code",
   "execution_count": 3,
   "metadata": {},
   "outputs": [
    {
     "data": {
      "text/plain": [
       "(10000, 785)"
      ]
     },
     "execution_count": 3,
     "metadata": {},
     "output_type": "execute_result"
    }
   ],
   "source": [
    "test = pd.read_csv('./mnist-in-csv/mnist_test.csv')\n",
    "test.shape"
   ]
  },
  {
   "cell_type": "code",
   "execution_count": null,
   "metadata": {},
   "outputs": [],
   "source": [
    "img_rows, img_cols = 28,28"
   ]
  },
  {
   "cell_type": "code",
   "execution_count": null,
   "metadata": {
    "scrolled": true
   },
   "outputs": [],
   "source": [
    "# Knowing Data\n",
    "# train.head()\n",
    "print(train.shape)\n",
    "test_later = train.iloc[:18000,1:]\n",
    "# train['label']\n",
    "test_later.shape\n",
    "# test_later = train.iloc[:,]\n",
    "Y_trainValue = train['label']\n",
    "X_trainValue = train.drop(labels = [\"label\"],axis = 1) \n",
    "g = sns.countplot(Y_trainValue)\n",
    "Y_trainValue.value_counts()"
   ]
  },
  {
   "cell_type": "code",
   "execution_count": null,
   "metadata": {},
   "outputs": [],
   "source": [
    "def data_preparation(data):\n",
    "    y = data.iloc[:,0]\n",
    "    out_y = keras.utils.to_categorical(y, num_classes=10)\n",
    "    \n",
    "    x = data.iloc[:, 1:]\n",
    "    numOfImages = data.shape[0]\n",
    "    out_x = x.values.reshape(numOfImages, img_rows, img_cols, 1)\n",
    "    out_x = out_x/255\n",
    "    \n",
    "    print(out_x.shape)\n",
    "    print(out_y.shape)\n",
    "    return out_x, out_y"
   ]
  },
  {
   "cell_type": "code",
   "execution_count": null,
   "metadata": {},
   "outputs": [],
   "source": [
    "x_train, y_train = data_preparation(train)"
   ]
  },
  {
   "cell_type": "markdown",
   "metadata": {},
   "source": [
    "# Model Building"
   ]
  },
  {
   "cell_type": "code",
   "execution_count": null,
   "metadata": {},
   "outputs": [],
   "source": [
    "batch_size = 64\n",
    "digitModel = Sequential()"
   ]
  },
  {
   "cell_type": "code",
   "execution_count": null,
   "metadata": {},
   "outputs": [],
   "source": [
    "# Model 1 batch size = 256, epochs = 130, \n",
    "# digitModel.add(Conv2D(16, kernel_size=(5,5),padding='same', kernel_initializer='he_normal' ,activation='relu', input_shape = (img_rows, img_cols, 1)))\n",
    "# digitModel.add(BatchNormalization(axis=-1))\n",
    "# digitModel.add(Conv2D(32, kernel_size=(5,5),padding='same', activation='relu'))\n",
    "# digitModel.add(BatchNormalization(axis=-1))\n",
    "# digitModel.add(AvgPool2D(pool_size=(2,2)))\n",
    "# digitModel.add(Dropout(0.25))\n",
    "# digitModel.add(Conv2D(64, kernel_size=(3,3), activation='relu', padding='same'))\n",
    "# digitModel.add(BatchNormalization(axis=-1))\n",
    "# digitModel.add(AvgPool2D(pool_size=(2,2)))\n",
    "# digitModel.add(Conv2D(128, kernel_size=(3,3), activation='relu', padding='same'))\n",
    "# digitModel.add(BatchNormalization(axis=-1))\n",
    "# digitModel.add(AvgPool2D(pool_size=(2,2)))\n",
    "# digitModel.add(Conv2D(256, kernel_size=(3,3), activation='relu', padding='same'))\n",
    "# digitModel.add(BatchNormalization(axis=-1))\n",
    "# digitModel.add(Conv2D(128, kernel_size=(3,3), activation='relu', padding='same'))\n",
    "# digitModel.add(BatchNormalization(axis=-1))\n",
    "# digitModel.add(Conv2D(64, kernel_size=(3,3), activation='relu', padding='same'))\n",
    "# digitModel.add(BatchNormalization(axis=-1))\n",
    "# digitModel.add(Conv2D(32, kernel_size=(3,3), activation='relu', padding='same'))\n",
    "# digitModel.add(BatchNormalization(axis=-1))\n",
    "# digitModel.add(AvgPool2D(pool_size=(2,2), strides=(2,2)))\n",
    "# digitModel.add(Dropout(0.25))\n",
    "\n",
    "\n",
    "#Model 2\n",
    "# digitModel.add(Conv2D(filters=32, kernel_size=(3,3), activation='relu',kernel_initializer='he_normal' ,padding='same', input_shape = (img_rows, img_cols, 1)))\n",
    "# digitModel.add(BatchNormalization(axis=-1))\n",
    "# digitModel.add(MaxPool2D(pool_size=(2,2)))\n",
    "# digitModel.add(Conv2D(filters=64, kernel_size=(3,3), activation='relu', padding='same'))\n",
    "# digitModel.add(BatchNormalization(axis=-1))\n",
    "# digitModel.add(MaxPool2D(pool_size=(2,2)))\n",
    "# digitModel.add(Conv2D(filters=64, kernel_size=(3,3), activation='relu', padding='same'))\n",
    "# digitModel.add(BatchNormalization(axis=-1))\n",
    "# digitModel.add(MaxPool2D(pool_size=(2,2)))\n",
    "\n",
    "# Model 3\n",
    "digitModel.add(Conv2D(filters=32, kernel_size=(5,5), activation='relu',kernel_initializer='he_normal' ,padding='Same', input_shape = (img_rows, img_cols, 1)))\n",
    "digitModel.add(Conv2D(filters=32, kernel_size=(5,5), activation='relu', padding='Same'))\n",
    "digitModel.add(BatchNormalization(axis=-1))\n",
    "digitModel.add(MaxPool2D(pool_size=(2,2)))\n",
    "digitModel.add(Dropout(0.25))\n",
    "\n",
    "digitModel.add(Conv2D(filters=64, kernel_size=(3,3), activation='relu' ,padding='Same'))\n",
    "digitModel.add(Conv2D(filters=64, kernel_size=(3,3), activation='relu', padding='Same'))\n",
    "digitModel.add(BatchNormalization(axis=-1))\n",
    "digitModel.add(MaxPool2D(pool_size=(2,2), strides=(2,2)))\n",
    "digitModel.add(Dropout(0.25))"
   ]
  },
  {
   "cell_type": "code",
   "execution_count": null,
   "metadata": {},
   "outputs": [],
   "source": [
    "digitModel.add(Flatten())"
   ]
  },
  {
   "cell_type": "code",
   "execution_count": null,
   "metadata": {},
   "outputs": [],
   "source": [
    "digitModel.add(Dense(256, activation='relu'))\n",
    "digitModel.add(Dropout(0.5))\n",
    "digitModel.add(Dense(num_classes, activation='softmax'))"
   ]
  },
  {
   "cell_type": "markdown",
   "metadata": {},
   "source": [
    "# Compile"
   ]
  },
  {
   "cell_type": "code",
   "execution_count": null,
   "metadata": {},
   "outputs": [],
   "source": [
    "# Model 1\n",
    "optimizer = RMSprop(lr=0.001, rho=0.9, epsilon=1e-08, decay=0.0)"
   ]
  },
  {
   "cell_type": "code",
   "execution_count": null,
   "metadata": {},
   "outputs": [],
   "source": [
    "digitModel.compile(loss=keras.losses.categorical_crossentropy, optimizer=optimizer, metrics=['accuracy'])"
   ]
  },
  {
   "cell_type": "code",
   "execution_count": null,
   "metadata": {},
   "outputs": [],
   "source": [
    "'''In order to make the optimizer converge faster and closest to the global minimum \n",
    "of the loss function, we will use an annealing method of the learning rate (LR).'''\n",
    "learning_rate_reduction = ReduceLROnPlateau(monitor='val_acc', \n",
    "                                            patience=3, \n",
    "                                            verbose=1, \n",
    "                                            factor=0.5, \n",
    "                                            min_lr=0.00001)"
   ]
  },
  {
   "cell_type": "markdown",
   "metadata": {},
   "source": [
    "# Fit"
   ]
  },
  {
   "cell_type": "code",
   "execution_count": null,
   "metadata": {},
   "outputs": [],
   "source": [
    "history = digitModel.fit(x_train, y_train, batch_size=64, epochs=15, validation_split=0.25, callbacks=[learning_rate_reduction])"
   ]
  },
  {
   "cell_type": "code",
   "execution_count": null,
   "metadata": {},
   "outputs": [],
   "source": [
    "digitModel.summary()"
   ]
  },
  {
   "cell_type": "markdown",
   "metadata": {},
   "source": [
    "# Model Predict"
   ]
  },
  {
   "cell_type": "code",
   "execution_count": null,
   "metadata": {},
   "outputs": [],
   "source": [
    "(X_train,Y_train),(X_test,Y_test) = mnist.load_data()\n",
    "X_train.shape\n",
    "# X_train_main = X_train.reshape(X_train.shape[0], X_train.shape[1]*X_train.shape[2])\n",
    "# X_test_main, Y_test_main = data_preparation(X_train_main)"
   ]
  },
  {
   "cell_type": "code",
   "execution_count": null,
   "metadata": {},
   "outputs": [],
   "source": [
    "X_train_main = X_train.reshape(X_train.shape[0], X_train.shape[1], X_train.shape[2], 1)\n",
    "X_train_main.shape"
   ]
  },
  {
   "cell_type": "code",
   "execution_count": null,
   "metadata": {},
   "outputs": [],
   "source": [
    "test_pred = pd.DataFrame(digitModel.predict(X_train_main, batch_size=200))"
   ]
  },
  {
   "cell_type": "code",
   "execution_count": null,
   "metadata": {},
   "outputs": [],
   "source": [
    "test_pred = pd.DataFrame(test_pred.idxmax(axis=1))"
   ]
  },
  {
   "cell_type": "code",
   "execution_count": null,
   "metadata": {},
   "outputs": [],
   "source": [
    "test_pred.index.name = 'ImageId'"
   ]
  },
  {
   "cell_type": "code",
   "execution_count": null,
   "metadata": {},
   "outputs": [],
   "source": [
    "test_pred = test_pred.rename(columns = {0: 'Label'}).reset_index()\n",
    "test_pred['ImageId'] = test_pred['ImageId'] + 1\n"
   ]
  },
  {
   "cell_type": "code",
   "execution_count": null,
   "metadata": {},
   "outputs": [],
   "source": [
    "test_pred = test_pred.iloc[:28000,:]\n",
    "test_pred.shape"
   ]
  },
  {
   "cell_type": "code",
   "execution_count": null,
   "metadata": {},
   "outputs": [],
   "source": [
    "# test_pred.to_csv('mnist_submission.csv', index = False)"
   ]
  },
  {
   "cell_type": "markdown",
   "metadata": {},
   "source": [
    "# Predict on Handwritten Image"
   ]
  },
  {
   "cell_type": "code",
   "execution_count": null,
   "metadata": {},
   "outputs": [],
   "source": [
    "img_pred = cv2.imread(\"6.png\", 0)"
   ]
  },
  {
   "cell_type": "code",
   "execution_count": null,
   "metadata": {},
   "outputs": [],
   "source": [
    "plt.imshow(img_pred, cmap='gray')"
   ]
  },
  {
   "cell_type": "code",
   "execution_count": null,
   "metadata": {},
   "outputs": [],
   "source": [
    "img_pred.shape"
   ]
  },
  {
   "cell_type": "code",
   "execution_count": null,
   "metadata": {},
   "outputs": [],
   "source": [
    "if img_pred.shape != [28,28]:\n",
    "    img = cv2.resize(img_pred, (28,28))\n",
    "    img_pred = img.reshape(28,28,-1)\n",
    "else:\n",
    "    img_pred = img_pred.reshape(28,28,-1)\n",
    "    "
   ]
  },
  {
   "cell_type": "code",
   "execution_count": null,
   "metadata": {},
   "outputs": [],
   "source": [
    "img_pred.shape"
   ]
  },
  {
   "cell_type": "code",
   "execution_count": null,
   "metadata": {},
   "outputs": [],
   "source": [
    "img_pred = img_pred.reshape(1,28,28,1)"
   ]
  },
  {
   "cell_type": "code",
   "execution_count": null,
   "metadata": {},
   "outputs": [],
   "source": [
    "img_pred = img_pred/255.0"
   ]
  },
  {
   "cell_type": "code",
   "execution_count": null,
   "metadata": {},
   "outputs": [],
   "source": [
    "prediction = digitModel.predict_classes(img_pred)\n",
    "prediction"
   ]
  },
  {
   "cell_type": "code",
   "execution_count": null,
   "metadata": {},
   "outputs": [],
   "source": [
    "prediction_probability = digitModel.predict_proba(img_pred)"
   ]
  },
  {
   "cell_type": "code",
   "execution_count": null,
   "metadata": {},
   "outputs": [],
   "source": [
    "pred_proba = \"%.2f%%\" % (prediction_probability[0][prediction]*100)\n",
    "print(pred_proba)"
   ]
  },
  {
   "cell_type": "code",
   "execution_count": null,
   "metadata": {},
   "outputs": [],
   "source": [
    "print(prediction[0], \" Confidence \", pred_proba)"
   ]
  },
  {
   "cell_type": "code",
   "execution_count": null,
   "metadata": {},
   "outputs": [],
   "source": []
  },
  {
   "cell_type": "code",
   "execution_count": null,
   "metadata": {},
   "outputs": [],
   "source": []
  }
 ],
 "metadata": {
  "kernelspec": {
   "display_name": "Python 3",
   "language": "python",
   "name": "python3"
  },
  "language_info": {
   "codemirror_mode": {
    "name": "ipython",
    "version": 3
   },
   "file_extension": ".py",
   "mimetype": "text/x-python",
   "name": "python",
   "nbconvert_exporter": "python",
   "pygments_lexer": "ipython3",
   "version": "3.6.5"
  }
 },
 "nbformat": 4,
 "nbformat_minor": 2
}
