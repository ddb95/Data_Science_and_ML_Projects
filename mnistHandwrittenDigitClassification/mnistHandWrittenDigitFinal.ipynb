{
 "cells": [
  {
   "cell_type": "code",
   "execution_count": 23,
   "metadata": {},
   "outputs": [],
   "source": [
    "from keras.datasets import mnist\n",
    "import matplotlib.pyplot as plt\n",
    "import numpy as np\n",
    "import pandas as pd\n",
    "from sklearn.model_selection import train_test_split\n",
    "import seaborn as sns\n",
    "%matplotlib inline\n",
    "\n",
    "np.random.seed(2)\n",
    "import keras\n",
    "import cv2\n",
    "import tensorflow as tf\n",
    "from keras.layers import Dense, Flatten, Conv2D, Dropout, MaxPool2D, AvgPool2D\n",
    "from keras.models import Sequential\n",
    "from keras.layers import InputLayer, Input\n",
    "from keras.layers import Reshape, MaxPool2D\n",
    "from keras.optimizers import RMSprop\n",
    "from keras.preprocessing.image import ImageDataGenerator\n",
    "from keras.callbacks import ReduceLROnPlateau\n"
   ]
  },
  {
   "cell_type": "code",
   "execution_count": 3,
   "metadata": {},
   "outputs": [
    {
     "data": {
      "text/plain": [
       "(60000, 785)"
      ]
     },
     "execution_count": 3,
     "metadata": {},
     "output_type": "execute_result"
    }
   ],
   "source": [
    "img_rows, img_cols = 28,28\n",
    "num_classes = 10\n",
    "train = pd.read_csv('./mnist-in-csv/mnist_train.csv')\n",
    "train.shape"
   ]
  },
  {
   "cell_type": "code",
   "execution_count": 4,
   "metadata": {},
   "outputs": [
    {
     "data": {
      "text/plain": [
       "(10000, 785)"
      ]
     },
     "execution_count": 4,
     "metadata": {},
     "output_type": "execute_result"
    }
   ],
   "source": [
    "test = pd.read_csv('./mnist-in-csv/mnist_test.csv')\n",
    "test.shape"
   ]
  },
  {
   "cell_type": "code",
   "execution_count": 5,
   "metadata": {},
   "outputs": [],
   "source": [
    "img_rows, img_cols = 28,28"
   ]
  },
  {
   "cell_type": "code",
   "execution_count": 11,
   "metadata": {
    "scrolled": true
   },
   "outputs": [
    {
     "name": "stdout",
     "output_type": "stream",
     "text": [
      "(60000, 785)\n"
     ]
    },
    {
     "data": {
      "text/plain": [
       "1    6742\n",
       "7    6265\n",
       "3    6131\n",
       "2    5958\n",
       "9    5949\n",
       "0    5923\n",
       "6    5918\n",
       "8    5851\n",
       "4    5842\n",
       "5    5421\n",
       "Name: label, dtype: int64"
      ]
     },
     "execution_count": 11,
     "metadata": {},
     "output_type": "execute_result"
    },
    {
     "data": {
      "image/png": "[encoded data removed]",
      "text/plain": [
       "<Figure size 432x288 with 1 Axes>"
      ]
     },
     "metadata": {},
     "output_type": "display_data"
    }
   ],
   "source": [
    "# train.head()\n",
    "print(train.shape)\n",
    "test_later = train.iloc[:18000,1:]\n",
    "# train['label']\n",
    "test_later.shape\n",
    "# test_later = train.iloc[:,]\n",
    "Y_trainValue = train['label']\n",
    "X_trainValue = train.drop(labels = [\"label\"],axis = 1) \n",
    "g = sns.countplot(Y_trainValue)\n",
    "Y_trainValue.value_counts()"
   ]
  },
  {
   "cell_type": "code",
   "execution_count": 7,
   "metadata": {},
   "outputs": [],
   "source": [
    "def data_preparation(data):\n",
    "    y = data.iloc[:,0]\n",
    "    out_y = keras.utils.to_categorical(y, num_classes=10)\n",
    "    \n",
    "    x = data.iloc[:, 1:]\n",
    "    numOfImages = data.shape[0]\n",
    "    out_x = x.values.reshape(numOfImages, img_rows, img_cols, 1)\n",
    "    out_x = out_x/255\n",
    "    print(out_x.shape)\n",
    "    print(out_y.shape)\n",
    "    return out_x, out_y"
   ]
  },
  {
   "cell_type": "code",
   "execution_count": 15,
   "metadata": {},
   "outputs": [
    {
     "name": "stdout",
     "output_type": "stream",
     "text": [
      "(60000, 28, 28, 1)\n",
      "(60000, 10)\n"
     ]
    }
   ],
   "source": [
    "x_train, y_train = data_preparation(train)"
   ]
  },
  {
   "cell_type": "markdown",
   "metadata": {},
   "source": [
    "# Model Building"
   ]
  },
  {
   "cell_type": "code",
   "execution_count": 16,
   "metadata": {},
   "outputs": [],
   "source": [
    "batch_size = 16\n",
    "digitModel = Sequential()"
   ]
  },
  {
   "cell_type": "code",
   "execution_count": 17,
   "metadata": {},
   "outputs": [],
   "source": [
    "digitModel.add(Conv2D(32, kernel_size=(5,5),padding='Same', activation='relu', input_shape = (img_rows, img_cols, 1)))\n",
    "digitModel.add(Conv2D(32, kernel_size=(5,5),padding='Same', activation='relu'))\n",
    "digitModel.add(AvgPool2D(pool_size=(2,2)))\n",
    "digitModel.add(Dropout(0.25))\n",
    "digitModel.add(Conv2D(64, kernel_size=(3,3), activation='relu', padding='Same'))\n",
    "digitModel.add(AvgPool2D(pool_size=(2,2)))\n",
    "digitModel.add(Conv2D(64, kernel_size=(3,3), activation='relu', padding='Same'))\n",
    "digitModel.add(AvgPool2D(pool_size=(2,2)))\n",
    "digitModel.add(Conv2D(64, kernel_size=(3,3), activation='relu', padding='Same'))\n",
    "digitModel.add(AvgPool2D(pool_size=(2,2), strides=(2,2)))\n",
    "digitModel.add(Dropout(0.25))\n"
   ]
  },
  {
   "cell_type": "code",
   "execution_count": 18,
   "metadata": {},
   "outputs": [],
   "source": [
    "digitModel.add(Flatten())"
   ]
  },
  {
   "cell_type": "code",
   "execution_count": 19,
   "metadata": {},
   "outputs": [],
   "source": [
    "digitModel.add(Dense(256, activation='relu'))\n",
    "digitModel.add(Dropout(0.5))\n",
    "digitModel.add(Dense(num_classes, activation='softmax'))"
   ]
  },
  {
   "cell_type": "markdown",
   "metadata": {},
   "source": [
    "# Compile"
   ]
  },
  {
   "cell_type": "code",
   "execution_count": 20,
   "metadata": {},
   "outputs": [],
   "source": [
    "optimizer = RMSprop(lr=0.001, rho=0.9, epsilon=1e-08, decay=0.0)"
   ]
  },
  {
   "cell_type": "code",
   "execution_count": 21,
   "metadata": {},
   "outputs": [],
   "source": [
    "digitModel.compile(loss=keras.losses.categorical_crossentropy, optimizer=optimizer, metrics=['accuracy'])"
   ]
  },
  {
   "cell_type": "code",
   "execution_count": 24,
   "metadata": {},
   "outputs": [],
   "source": [
    "'''In order to make the optimizer converge faster and closest to the global minimum \n",
    "of the loss function, we will use an annealing method of the learning rate (LR).'''\n",
    "learning_rate_reduction = ReduceLROnPlateau(monitor='val_acc', \n",
    "                                            patience=3, \n",
    "                                            verbose=1, \n",
    "                                            factor=0.5, \n",
    "                                            min_lr=0.00001)"
   ]
  },
  {
   "cell_type": "markdown",
   "metadata": {},
   "source": [
    "# Fit"
   ]
  },
  {
   "cell_type": "code",
   "execution_count": 25,
   "metadata": {},
   "outputs": [
    {
     "name": "stdout",
     "output_type": "stream",
     "text": [
      "Train on 45000 samples, validate on 15000 samples\n",
      "Epoch 1/30\n",
      "45000/45000 [==============================] - 168s - loss: 0.5875 - acc: 0.8076 - val_loss: 0.1332 - val_acc: 0.9595\n",
      "Epoch 2/30\n",
      "45000/45000 [==============================] - 166s - loss: 0.1414 - acc: 0.9603 - val_loss: 0.1004 - val_acc: 0.9709\n",
      "Epoch 3/30\n",
      "45000/45000 [==============================] - 162s - loss: 0.0924 - acc: 0.9736 - val_loss: 0.0569 - val_acc: 0.9843\n",
      "Epoch 4/30\n",
      "45000/45000 [==============================] - 162s - loss: 0.0719 - acc: 0.9814 - val_loss: 0.0913 - val_acc: 0.9801\n",
      "Epoch 5/30\n",
      "45000/45000 [==============================] - 162s - loss: 0.0575 - acc: 0.9841 - val_loss: 0.0638 - val_acc: 0.9847\n",
      "Epoch 6/30\n",
      "45000/45000 [==============================] - 162s - loss: 0.0516 - acc: 0.9860 - val_loss: 0.0395 - val_acc: 0.9905\n",
      "Epoch 7/30\n",
      "45000/45000 [==============================] - 162s - loss: 0.0480 - acc: 0.9871 - val_loss: 0.0367 - val_acc: 0.9905\n",
      "Epoch 8/30\n",
      "45000/45000 [==============================] - 162s - loss: 0.0446 - acc: 0.9883 - val_loss: 0.0468 - val_acc: 0.9883\n",
      "Epoch 9/30\n",
      "45000/45000 [==============================] - 162s - loss: 0.0418 - acc: 0.9893 - val_loss: 0.0473 - val_acc: 0.9896\n",
      "Epoch 10/30\n",
      "45000/45000 [==============================] - 163s - loss: 0.0413 - acc: 0.9901 - val_loss: 0.0441 - val_acc: 0.9913\n",
      "Epoch 11/30\n",
      "45000/45000 [==============================] - 170s - loss: 0.0380 - acc: 0.9897 - val_loss: 0.0485 - val_acc: 0.9908\n",
      "Epoch 12/30\n",
      "45000/45000 [==============================] - 173s - loss: 0.0402 - acc: 0.9910 - val_loss: 0.0596 - val_acc: 0.9879\n",
      "Epoch 13/30\n",
      "45000/45000 [==============================] - 171s - loss: 0.0420 - acc: 0.9902 - val_loss: 0.0456 - val_acc: 0.9913\n",
      "Epoch 14/30\n",
      "44992/45000 [============================>.] - ETA: 0s - loss: 0.0417 - acc: 0.9910\n",
      "Epoch 00013: reducing learning rate to 0.0005000000237487257.\n",
      "45000/45000 [==============================] - 167s - loss: 0.0417 - acc: 0.9910 - val_loss: 0.0440 - val_acc: 0.9890\n",
      "Epoch 15/30\n",
      "45000/45000 [==============================] - 167s - loss: 0.0278 - acc: 0.9934 - val_loss: 0.0372 - val_acc: 0.9924\n",
      "Epoch 16/30\n",
      "45000/45000 [==============================] - 166s - loss: 0.0243 - acc: 0.9944 - val_loss: 0.0400 - val_acc: 0.9916\n",
      "Epoch 17/30\n",
      "45000/45000 [==============================] - 166s - loss: 0.0253 - acc: 0.9943 - val_loss: 0.0380 - val_acc: 0.9919\n",
      "Epoch 18/30\n",
      "45000/45000 [==============================] - 165s - loss: 0.0230 - acc: 0.9948 - val_loss: 0.0403 - val_acc: 0.9927\n",
      "Epoch 19/30\n",
      "45000/45000 [==============================] - 164s - loss: 0.0272 - acc: 0.9938 - val_loss: 0.0534 - val_acc: 0.9920\n",
      "Epoch 20/30\n",
      "45000/45000 [==============================] - 165s - loss: 0.0254 - acc: 0.9944 - val_loss: 0.0630 - val_acc: 0.9901\n",
      "Epoch 21/30\n",
      "45000/45000 [==============================] - 165s - loss: 0.0287 - acc: 0.9939 - val_loss: 0.0359 - val_acc: 0.9911\n",
      "Epoch 22/30\n",
      "44992/45000 [============================>.] - ETA: 0s - loss: 0.0282 - acc: 0.9933\n",
      "Epoch 00021: reducing learning rate to 0.0002500000118743628.\n",
      "45000/45000 [==============================] - 167s - loss: 0.0282 - acc: 0.9933 - val_loss: 0.0492 - val_acc: 0.9925\n",
      "Epoch 23/30\n",
      "45000/45000 [==============================] - 175s - loss: 0.0197 - acc: 0.9958 - val_loss: 0.0386 - val_acc: 0.9935\n",
      "Epoch 24/30\n",
      "45000/45000 [==============================] - 172s - loss: 0.0172 - acc: 0.9960 - val_loss: 0.0387 - val_acc: 0.9924\n",
      "Epoch 25/30\n",
      "45000/45000 [==============================] - 178s - loss: 0.0180 - acc: 0.9957 - val_loss: 0.0464 - val_acc: 0.9925\n",
      "Epoch 26/30\n",
      "45000/45000 [==============================] - 181s - loss: 0.0211 - acc: 0.9958 - val_loss: 0.0391 - val_acc: 0.9936\n",
      "Epoch 27/30\n",
      "44992/45000 [============================>.] - ETA: 0s - loss: 0.0190 - acc: 0.9956\n",
      "Epoch 00026: reducing learning rate to 0.0001250000059371814.\n",
      "45000/45000 [==============================] - 171s - loss: 0.0190 - acc: 0.9956 - val_loss: 0.0412 - val_acc: 0.9935\n",
      "Epoch 28/30\n",
      "45000/45000 [==============================] - 174s - loss: 0.0141 - acc: 0.9971 - val_loss: 0.0355 - val_acc: 0.9935\n",
      "Epoch 29/30\n",
      "45000/45000 [==============================] - 178s - loss: 0.0142 - acc: 0.9969 - val_loss: 0.0366 - val_acc: 0.9930\n",
      "Epoch 30/30\n",
      "44992/45000 [============================>.] - ETA: 0s - loss: 0.0144 - acc: 0.9970\n",
      "Epoch 00029: reducing learning rate to 6.25000029685907e-05.\n",
      "45000/45000 [==============================] - 173s - loss: 0.0144 - acc: 0.9970 - val_loss: 0.0455 - val_acc: 0.9935\n"
     ]
    },
    {
     "data": {
      "text/plain": [
       "<keras.callbacks.History at 0x7fb0b1dd4208>"
      ]
     },
     "execution_count": 25,
     "metadata": {},
     "output_type": "execute_result"
    }
   ],
   "source": [
    "digitModel.fit(x_train, y_train, batch_size=64, epochs=30, validation_split=0.25, callbacks=[learning_rate_reduction])"
   ]
  },
  {
   "cell_type": "code",
   "execution_count": 26,
   "metadata": {},
   "outputs": [
    {
     "name": "stdout",
     "output_type": "stream",
     "text": [
      "_________________________________________________________________\n",
      "Layer (type)                 Output Shape              Param #   \n",
      "=================================================================\n",
      "conv2d_1 (Conv2D)            (None, 28, 28, 32)        832       \n",
      "_________________________________________________________________\n",
      "conv2d_2 (Conv2D)            (None, 28, 28, 32)        25632     \n",
      "_________________________________________________________________\n",
      "average_pooling2d_1 (Average (None, 14, 14, 32)        0         \n",
      "_________________________________________________________________\n",
      "dropout_1 (Dropout)          (None, 14, 14, 32)        0         \n",
      "_________________________________________________________________\n",
      "conv2d_3 (Conv2D)            (None, 14, 14, 64)        18496     \n",
      "_________________________________________________________________\n",
      "average_pooling2d_2 (Average (None, 7, 7, 64)          0         \n",
      "_________________________________________________________________\n",
      "conv2d_4 (Conv2D)            (None, 7, 7, 64)          36928     \n",
      "_________________________________________________________________\n",
      "average_pooling2d_3 (Average (None, 3, 3, 64)          0         \n",
      "_________________________________________________________________\n",
      "conv2d_5 (Conv2D)            (None, 3, 3, 64)          36928     \n",
      "_________________________________________________________________\n",
      "average_pooling2d_4 (Average (None, 1, 1, 64)          0         \n",
      "_________________________________________________________________\n",
      "dropout_2 (Dropout)          (None, 1, 1, 64)          0         \n",
      "_________________________________________________________________\n",
      "flatten_1 (Flatten)          (None, 64)                0         \n",
      "_________________________________________________________________\n",
      "dense_1 (Dense)              (None, 256)               16640     \n",
      "_________________________________________________________________\n",
      "dropout_3 (Dropout)          (None, 256)               0         \n",
      "_________________________________________________________________\n",
      "dense_2 (Dense)              (None, 10)                2570      \n",
      "=================================================================\n",
      "Total params: 138,026\n",
      "Trainable params: 138,026\n",
      "Non-trainable params: 0\n",
      "_________________________________________________________________\n"
     ]
    }
   ],
   "source": [
    "digitModel.summary()"
   ]
  },
  {
   "cell_type": "markdown",
   "metadata": {},
   "source": [
    "# Model Predict"
   ]
  },
  {
   "cell_type": "code",
   "execution_count": 27,
   "metadata": {},
   "outputs": [
    {
     "data": {
      "text/plain": [
       "(60000, 28, 28)"
      ]
     },
     "execution_count": 27,
     "metadata": {},
     "output_type": "execute_result"
    }
   ],
   "source": [
    "(X_train,Y_train),(X_test,Y_test) = mnist.load_data()\n",
    "X_train.shape\n",
    "# X_train_main = X_train.reshape(X_train.shape[0], X_train.shape[1]*X_train.shape[2])\n",
    "# X_test_main, Y_test_main = data_preparation(X_train_main)"
   ]
  },
  {
   "cell_type": "code",
   "execution_count": 28,
   "metadata": {},
   "outputs": [
    {
     "data": {
      "text/plain": [
       "(60000, 28, 28, 1)"
      ]
     },
     "execution_count": 28,
     "metadata": {},
     "output_type": "execute_result"
    }
   ],
   "source": [
    "X_train_main = X_train.reshape(X_train.shape[0], X_train.shape[1], X_train.shape[2], 1)\n",
    "X_train_main.shape"
   ]
  },
  {
   "cell_type": "code",
   "execution_count": 29,
   "metadata": {},
   "outputs": [],
   "source": [
    "test_pred = pd.DataFrame(digitModel.predict(X_train_main, batch_size=200))"
   ]
  },
  {
   "cell_type": "code",
   "execution_count": 30,
   "metadata": {},
   "outputs": [],
   "source": [
    "test_pred = pd.DataFrame(test_pred.idxmax(axis=1))"
   ]
  },
  {
   "cell_type": "code",
   "execution_count": 31,
   "metadata": {},
   "outputs": [],
   "source": [
    "test_pred.index.name = 'ImageId'"
   ]
  },
  {
   "cell_type": "code",
   "execution_count": 32,
   "metadata": {},
   "outputs": [],
   "source": [
    "test_pred = test_pred.rename(columns = {0: 'Label'}).reset_index()\n",
    "test_pred['ImageId'] = test_pred['ImageId'] + 1\n"
   ]
  },
  {
   "cell_type": "code",
   "execution_count": 33,
   "metadata": {},
   "outputs": [
    {
     "data": {
      "text/plain": [
       "(28000, 2)"
      ]
     },
     "execution_count": 33,
     "metadata": {},
     "output_type": "execute_result"
    }
   ],
   "source": [
    "test_pred = test_pred.iloc[:28000,:]\n",
    "test_pred.shape"
   ]
  },
  {
   "cell_type": "code",
   "execution_count": 34,
   "metadata": {},
   "outputs": [],
   "source": [
    "test_pred.to_csv('mnist_submission.csv', index = False)"
   ]
  },
  {
   "cell_type": "markdown",
   "metadata": {},
   "source": [
    "# Predict on Handwritten Image"
   ]
  },
  {
   "cell_type": "code",
   "execution_count": 94,
   "metadata": {},
   "outputs": [],
   "source": [
    "img_pred = cv2.imread(\"3.jpg\", 0)"
   ]
  },
  {
   "cell_type": "code",
   "execution_count": 95,
   "metadata": {},
   "outputs": [
    {
     "data": {
      "text/plain": [
       "<matplotlib.image.AxesImage at 0x7fb0759ebda0>"
      ]
     },
     "execution_count": 95,
     "metadata": {},
     "output_type": "execute_result"
    },
    {
     "data": {
      "image/png": "[encoded data removed]",
      "text/plain": [
       "<Figure size 432x288 with 1 Axes>"
      ]
     },
     "metadata": {},
     "output_type": "display_data"
    }
   ],
   "source": [
    "plt.imshow(img_pred, cmap='gray')"
   ]
  },
  {
   "cell_type": "code",
   "execution_count": 96,
   "metadata": {},
   "outputs": [
    {
     "data": {
      "text/plain": [
       "(480, 852)"
      ]
     },
     "execution_count": 96,
     "metadata": {},
     "output_type": "execute_result"
    }
   ],
   "source": [
    "img_pred.shape"
   ]
  },
  {
   "cell_type": "code",
   "execution_count": 97,
   "metadata": {},
   "outputs": [],
   "source": [
    "if img_pred.shape != [28,28]:\n",
    "    img = cv2.resize(img_pred, (28,28))\n",
    "    img_pred = img.reshape(28,28,-1)\n",
    "else:\n",
    "    img_pred = img_pred.reshape(28,28,-1)\n",
    "    "
   ]
  },
  {
   "cell_type": "code",
   "execution_count": 98,
   "metadata": {},
   "outputs": [
    {
     "data": {
      "text/plain": [
       "(28, 28, 1)"
      ]
     },
     "execution_count": 98,
     "metadata": {},
     "output_type": "execute_result"
    }
   ],
   "source": [
    "img_pred.shape"
   ]
  },
  {
   "cell_type": "code",
   "execution_count": 99,
   "metadata": {},
   "outputs": [],
   "source": [
    "img_pred = img_pred.reshape(1,28,28,1)"
   ]
  },
  {
   "cell_type": "code",
   "execution_count": 100,
   "metadata": {},
   "outputs": [],
   "source": [
    "img_pred = img_pred/255.0"
   ]
  },
  {
   "cell_type": "code",
   "execution_count": 109,
   "metadata": {},
   "outputs": [
    {
     "name": "stdout",
     "output_type": "stream",
     "text": [
      "1/1 [==============================] - 0s\n"
     ]
    },
    {
     "data": {
      "text/plain": [
       "array([8])"
      ]
     },
     "execution_count": 109,
     "metadata": {},
     "output_type": "execute_result"
    }
   ],
   "source": [
    "prediction = digitModel.predict_classes(img_pred)\n",
    "prediction"
   ]
  },
  {
   "cell_type": "code",
   "execution_count": 106,
   "metadata": {},
   "outputs": [
    {
     "name": "stdout",
     "output_type": "stream",
     "text": [
      "1/1 [==============================] - 0s\n"
     ]
    }
   ],
   "source": [
    "prediction_probability = digitModel.predict_proba(img_pred)"
   ]
  },
  {
   "cell_type": "code",
   "execution_count": 103,
   "metadata": {},
   "outputs": [
    {
     "name": "stdout",
     "output_type": "stream",
     "text": [
      "100.00%\n"
     ]
    }
   ],
   "source": [
    "pred_proba = \"%.2f%%\" % (prediction_probability[0][prediction]*100)\n",
    "print(pred_proba)"
   ]
  },
  {
   "cell_type": "code",
   "execution_count": 104,
   "metadata": {},
   "outputs": [
    {
     "name": "stdout",
     "output_type": "stream",
     "text": [
      "8  Confidence  100.00%\n"
     ]
    }
   ],
   "source": [
    "print(prediction[0], \" Confidence \", pred_proba)"
   ]
  },
  {
   "cell_type": "code",
   "execution_count": null,
   "metadata": {},
   "outputs": [],
   "source": []
  },
  {
   "cell_type": "code",
   "execution_count": null,
   "metadata": {},
   "outputs": [],
   "source": []
  }
 ],
 "metadata": {
  "kernelspec": {
   "display_name": "Python 3",
   "language": "python",
   "name": "python3"
  },
  "language_info": {
   "codemirror_mode": {
    "name": "ipython",
    "version": 3
   },
   "file_extension": ".py",
   "mimetype": "text/x-python",
   "name": "python",
   "nbconvert_exporter": "python",
   "pygments_lexer": "ipython3",
   "version": "3.6.5"
  }
 },
 "nbformat": 4,
 "nbformat_minor": 2
}
